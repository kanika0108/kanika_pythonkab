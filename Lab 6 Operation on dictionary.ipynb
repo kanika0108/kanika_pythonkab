{
 "cells": [
  {
   "cell_type": "code",
   "execution_count": 2,
   "metadata": {},
   "outputs": [
    {
     "name": "stdout",
     "output_type": "stream",
     "text": [
      "{'A': 42, 'B': 33, 'C': 50}\n"
     ]
    }
   ],
   "source": [
    "#q1 create a dictionary\n",
    "c={\n",
    "    \"A\":42,\n",
    "    \"B\":33,\n",
    "    \"C\":50,\n",
    "}\n",
    "print(c)"
   ]
  },
  {
   "cell_type": "code",
   "execution_count": 6,
   "metadata": {},
   "outputs": [
    {
     "name": "stdout",
     "output_type": "stream",
     "text": [
      "{'A': 1, 'B': 2, 'c': 4}\n"
     ]
    }
   ],
   "source": [
    "#q2 create a dictionary \n",
    "roll_no={\n",
    "    \"A\":1,\n",
    "    \"B\":2,\n",
    "    \"c\":4,\n",
    "}\n",
    "print(roll_no)"
   ]
  },
  {
   "cell_type": "code",
   "execution_count": 12,
   "metadata": {},
   "outputs": [
    {
     "name": "stdout",
     "output_type": "stream",
     "text": [
      "{'B': 34, 'C': 45}\n"
     ]
    }
   ],
   "source": [
    "#q3 delete an element of dictionary\n",
    "dict1={\n",
    "    \"A\":23,\n",
    "    \"B\":34,\n",
    "    \"C\":45,\n",
    "}\n",
    "del dict1[\"A\"]\n",
    "print(dict1)\n"
   ]
  },
  {
   "cell_type": "code",
   "execution_count": 13,
   "metadata": {},
   "outputs": [
    {
     "name": "stdout",
     "output_type": "stream",
     "text": [
      "A 23\n",
      "B 34\n",
      "C 45\n"
     ]
    }
   ],
   "source": [
    "#q4 print key and value of dictionary \n",
    "dict1={\n",
    "    \"A\":23,\n",
    "    \"B\":34,\n",
    "    \"C\":45,\n",
    "}\n",
    "for key,value in dict1.items():\n",
    "    print(key,value)"
   ]
  },
  {
   "cell_type": "code",
   "execution_count": 16,
   "metadata": {},
   "outputs": [
    {
     "name": "stdout",
     "output_type": "stream",
     "text": [
      "A\n",
      "B\n",
      "C\n"
     ]
    }
   ],
   "source": [
    "#q5 print only key of dictionary\n",
    "dict1={\n",
    "    \"A\":23,\n",
    "    \"B\":34,\n",
    "    \"C\":45,\n",
    "}\n",
    "for key in dict1:\n",
    "    print(key)"
   ]
  },
  {
   "cell_type": "code",
   "execution_count": 23,
   "metadata": {},
   "outputs": [
    {
     "name": "stdout",
     "output_type": "stream",
     "text": [
      "True\n"
     ]
    }
   ],
   "source": [
    "#q6 to check if a key id present in dictionary\n",
    "dict1={\n",
    "    \"mango\":\"fruit\",\n",
    "    \"apple\":\"fruit\",\n",
    "    \"potato\":\"veggie\",\n",
    "    \"tomato\":\"veggie\",\n",
    "}\n",
    "if(\"mango\" in dict1):\n",
    "    print(\"mango\" in dict1)\n",
    "else:\n",
    "    print(\"mango\" not in dict1)\n",
    "    "
   ]
  },
  {
   "cell_type": "code",
   "execution_count": 25,
   "metadata": {},
   "outputs": [
    {
     "name": "stdout",
     "output_type": "stream",
     "text": [
      "{'A': '50', 'B': 34, 'C': 45}\n"
     ]
    }
   ],
   "source": [
    "#q7 update a value of a key\n",
    "dict1={\n",
    "    \"A\":23,\n",
    "    \"B\":34,\n",
    "    \"C\":45,\n",
    "}\n",
    "dict1[\"A\"]=\"50\"\n",
    "print(dict1)"
   ]
  },
  {
   "cell_type": "code",
   "execution_count": 26,
   "metadata": {},
   "outputs": [
    {
     "name": "stdout",
     "output_type": "stream",
     "text": [
      "{'A': 23, 'B': 34, 'C': 45, 'Z': '20'}\n"
     ]
    }
   ],
   "source": [
    "#q8 add a new key value\n",
    "dict1={\n",
    "    \"A\":23,\n",
    "    \"B\":34,\n",
    "    \"C\":45,\n",
    "}\n",
    "dict1[\"Z\"]=\"20\"\n",
    "print(dict1)"
   ]
  },
  {
   "cell_type": "code",
   "execution_count": 27,
   "metadata": {},
   "outputs": [
    {
     "name": "stdout",
     "output_type": "stream",
     "text": [
      "{'A': 23, 'B': 34, 'C': 45, 'D': (12, 34)}\n"
     ]
    }
   ],
   "source": [
    "#q9 \n",
    "dict1={\n",
    "    \"A\":23,\n",
    "    \"B\":34,\n",
    "    \"C\":45,\n",
    "}\n",
    "dict1[\"D\"]=(12,34)\n",
    "print(dict1)"
   ]
  },
  {
   "cell_type": "code",
   "execution_count": 28,
   "metadata": {},
   "outputs": [
    {
     "name": "stdout",
     "output_type": "stream",
     "text": [
      "{'A': 23, 'B': 34, 'C': 45, 'D': [12, 34]}\n"
     ]
    }
   ],
   "source": [
    "dict1={\n",
    "    \"A\":23,\n",
    "    \"B\":34,\n",
    "    \"C\":45,\n",
    "}\n",
    "dict1[\"D\"]=[12,34]\n",
    "print(dict1)"
   ]
  },
  {
   "cell_type": "code",
   "execution_count": 29,
   "metadata": {},
   "outputs": [
    {
     "ename": "TypeError",
     "evalue": "unhashable type: 'slice'",
     "output_type": "error",
     "traceback": [
      "\u001b[1;31m---------------------------------------------------------------------------\u001b[0m",
      "\u001b[1;31mTypeError\u001b[0m                                 Traceback (most recent call last)",
      "\u001b[1;32m<ipython-input-29-9d456ea47ebe>\u001b[0m in \u001b[0;36m<module>\u001b[1;34m\u001b[0m\n\u001b[0;32m      4\u001b[0m     \u001b[1;34m\"C\"\u001b[0m\u001b[1;33m:\u001b[0m\u001b[1;36m45\u001b[0m\u001b[1;33m,\u001b[0m\u001b[1;33m\u001b[0m\u001b[1;33m\u001b[0m\u001b[0m\n\u001b[0;32m      5\u001b[0m }\n\u001b[1;32m----> 6\u001b[1;33m \u001b[0mprint\u001b[0m\u001b[1;33m[\u001b[0m\u001b[0mdict1\u001b[0m\u001b[1;33m[\u001b[0m\u001b[1;36m0\u001b[0m\u001b[1;33m:\u001b[0m\u001b[1;36m2\u001b[0m\u001b[1;33m]\u001b[0m\u001b[1;33m]\u001b[0m\u001b[1;33m\u001b[0m\u001b[1;33m\u001b[0m\u001b[0m\n\u001b[0m",
      "\u001b[1;31mTypeError\u001b[0m: unhashable type: 'slice'"
     ]
    }
   ],
   "source": [
    "dict1={\n",
    "    \"A\":23,\n",
    "    \"B\":34,\n",
    "    \"C\":45,\n",
    "}\n",
    "print[dict1[0:2]]"
   ]
  },
  {
   "cell_type": "code",
   "execution_count": 37,
   "metadata": {},
   "outputs": [
    {
     "data": {
      "text/plain": [
       "True"
      ]
     },
     "execution_count": 37,
     "metadata": {},
     "output_type": "execute_result"
    }
   ],
   "source": [
    "dict1={\n",
    "    \"A\":23,\n",
    "    \"B\":34,\n",
    "    \"C\":45\n",
    "}\n",
    "dict2={\n",
    "    \"A\":23,\n",
    "    \"B\":34,\n",
    "    \"C\":45\n",
    "}\n",
    "(dict1==dict2)"
   ]
  },
  {
   "cell_type": "code",
   "execution_count": 38,
   "metadata": {},
   "outputs": [
    {
     "name": "stdout",
     "output_type": "stream",
     "text": [
      "{1: 1, 2: 4, 3: 9, 4: 16, 5: 25, 6: 36, 7: 49, 8: 64, 9: 81, 10: 100}\n"
     ]
    }
   ],
   "source": [
    "dict1={}\n",
    "for key in range(1,11):\n",
    "    dict1[key]=key*key\n",
    "print(dict1)"
   ]
  },
  {
   "cell_type": "code",
   "execution_count": 44,
   "metadata": {},
   "outputs": [
    {
     "name": "stdout",
     "output_type": "stream",
     "text": [
      "{'A': 12, 1: 'ABC', 2: {'A': 16, 2: 'DEF'}, 'C': 17}\n"
     ]
    }
   ],
   "source": [
    "#print dict\n",
    "dict1={\n",
    "    \"A\":12,1:\"ABC\",2:{\"A\":16,2:\"DEF\"},\"C\":17}\n",
    "print(dict1)\n",
    "    "
   ]
  },
  {
   "cell_type": "code",
   "execution_count": 43,
   "metadata": {},
   "outputs": [
    {
     "name": "stdout",
     "output_type": "stream",
     "text": [
      "{}\n"
     ]
    }
   ],
   "source": [
    "#clear the dict\n",
    "dict1={\n",
    "    \"A\":23,\n",
    "    \"B\":34,\n",
    "    \"C\":45,\n",
    "}\n",
    "dict1.clear()\n",
    "print(dict1)"
   ]
  },
  {
   "cell_type": "code",
   "execution_count": 45,
   "metadata": {},
   "outputs": [
    {
     "name": "stdout",
     "output_type": "stream",
     "text": [
      "{'A': 23, 'B': 34, 'C': 45, 'D': 23, 'E': 34, 'F': 45, 'G': 23, 'H': 34, 'I': 45}\n"
     ]
    }
   ],
   "source": [
    "dict4={}\n",
    "dict1={\n",
    "    \"A\":23,\n",
    "    \"B\":34,\n",
    "    \"C\":45,\n",
    "}\n",
    "dict2={\n",
    "    \"D\":23,\n",
    "    \"E\":34,\n",
    "    \"F\":45,\n",
    "}\n",
    "dict3={\n",
    "    \"G\":23,\n",
    "    \"H\":34,\n",
    "    \"I\":45,\n",
    "}\n",
    "for dict in(dict1,dict2,dict3):\n",
    "    dict4.update(dict)\n",
    "print(dict4)    \n"
   ]
  },
  {
   "cell_type": "code",
   "execution_count": 46,
   "metadata": {},
   "outputs": [
    {
     "name": "stdout",
     "output_type": "stream",
     "text": [
      "{'A': 23, 'B': 34, 'C': 45, 'E': 34, 'F': 45, 'G': 23, 'H': 34, 'I': 45}\n"
     ]
    }
   ],
   "source": [
    "#update two dict\n",
    "dict4={}\n",
    "dict1={\n",
    "    \"A\":23,\n",
    "    \"B\":34,\n",
    "    \"C\":45,\n",
    "}\n",
    "dict2={\n",
    "    \"A\":23,\n",
    "    \"E\":34,\n",
    "    \"F\":45,\n",
    "}\n",
    "dict3={\n",
    "    \"G\":23,\n",
    "    \"H\":34,\n",
    "    \"I\":45,\n",
    "}\n",
    "for dict in(dict1,dict2,dict3):\n",
    "    dict4.update(dict)\n",
    "\n",
    "    print(dict4)"
   ]
  },
  {
   "cell_type": "code",
   "execution_count": 54,
   "metadata": {},
   "outputs": [
    {
     "name": "stdout",
     "output_type": "stream",
     "text": [
      "102\n"
     ]
    }
   ],
   "source": [
    "#sum of dict\n",
    "dict1={\n",
    "    \"A\":23,\n",
    "    \"B\":34,\n",
    "    \"C\":45,\n",
    "}\n",
    "sum=0\n",
    "for key,value in dict1.items():\n",
    "    sum=sum+value\n",
    "\n",
    "    print(sum)    "
   ]
  },
  {
   "cell_type": "code",
   "execution_count": 57,
   "metadata": {},
   "outputs": [
    {
     "name": "stdout",
     "output_type": "stream",
     "text": [
      "{10: 362880}\n"
     ]
    }
   ],
   "source": [
    "#range of a dict\n",
    "c={}\n",
    "for i in range(1,11):\n",
    "    b=1\n",
    "    for r in range(1,i):\n",
    "        b=b*r\n",
    "c[i]=b \n",
    "print(c)\n",
    "      "
   ]
  },
  {
   "cell_type": "code",
   "execution_count": null,
   "metadata": {},
   "outputs": [],
   "source": []
  }
 ],
 "metadata": {
  "kernelspec": {
   "display_name": "Python 3",
   "language": "python",
   "name": "python3"
  },
  "language_info": {
   "codemirror_mode": {
    "name": "ipython",
    "version": 3
   },
   "file_extension": ".py",
   "mimetype": "text/x-python",
   "name": "python",
   "nbconvert_exporter": "python",
   "pygments_lexer": "ipython3",
   "version": "3.7.4"
  },
  "widgets": {
   "application/vnd.jupyter.widget-state+json": {
    "state": {},
    "version_major": 2,
    "version_minor": 0
   }
  }
 },
 "nbformat": 4,
 "nbformat_minor": 2
}
